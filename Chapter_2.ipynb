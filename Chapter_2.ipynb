{
  "nbformat": 4,
  "nbformat_minor": 0,
  "metadata": {
    "colab": {
      "provenance": [],
      "authorship_tag": "ABX9TyOeq7JHS6fgbQ0/e8M6luST",
      "include_colab_link": true
    },
    "kernelspec": {
      "name": "python3",
      "display_name": "Python 3"
    },
    "language_info": {
      "name": "python"
    }
  },
  "cells": [
    {
      "cell_type": "markdown",
      "metadata": {
        "id": "view-in-github",
        "colab_type": "text"
      },
      "source": [
        "<a href=\"https://colab.research.google.com/github/soumyasahaiitb/Wes-Mckinney-Python-for-Data-Analysis-/blob/master/Chapter_2.ipynb\" target=\"_parent\"><img src=\"https://colab.research.google.com/assets/colab-badge.svg\" alt=\"Open In Colab\"/></a>"
      ]
    },
    {
      "cell_type": "code",
      "execution_count": 6,
      "metadata": {
        "id": "GV7ksaB6o77X"
      },
      "outputs": [],
      "source": [
        "#Introspection\n",
        "#Using a question mark (?) before or after a variable will display some general information about the object:\n",
        "introspection=\"it\"\n",
        "?introspection\n",
        "\n"
      ]
    },
    {
      "cell_type": "code",
      "source": [
        "#Variables and argument passing\n",
        "#When assigning a variable (or name) in Python, you are creating a reference to the object shown on the righthand side of the equals sign.\n",
        "#In some languages, the assignment if b will cause the data [1, 2, 3] to be copied. In Python, a and b actually now refer to the same object, the original list [1, 2, 3].\n",
        "#You can prove this to yourself by appending an element to a and then examining b\n",
        "a=[1,2,3]\n",
        "b=a\n",
        "a.append(4)\n",
        "b\n",
        "\n",
        "def append_elements(lists,element):\n",
        "  lists.append(element)\n",
        "append_elements(a,6)\n",
        "a"
      ],
      "metadata": {
        "colab": {
          "base_uri": "https://localhost:8080/"
        },
        "id": "96ucKvZPti3Z",
        "outputId": "0e442622-62fe-40fb-8b5d-1791da2edcc9"
      },
      "execution_count": 7,
      "outputs": [
        {
          "output_type": "execute_result",
          "data": {
            "text/plain": [
              "[1, 2, 3, 4, 6]"
            ]
          },
          "metadata": {},
          "execution_count": 7
        }
      ]
    },
    {
      "cell_type": "code",
      "source": [
        "#Dynamic references, strong types\n",
        "#Variables in Python have no inherent type associated with them; a variable can refer to a different type of object simply by doing an assignment.\n",
        "#There is no problem with the following:\n",
        "a=6\n",
        "type(a)\n",
        "a=\"foo\"\n",
        "type(a)"
      ],
      "metadata": {
        "colab": {
          "base_uri": "https://localhost:8080/"
        },
        "id": "IcA_D5nxtvYZ",
        "outputId": "30833537-931b-43ef-e902-a44f9240e41f"
      },
      "execution_count": 10,
      "outputs": [
        {
          "output_type": "execute_result",
          "data": {
            "text/plain": [
              "str"
            ]
          },
          "metadata": {},
          "execution_count": 10
        }
      ]
    },
    {
      "cell_type": "code",
      "source": [
        "#Variables are names for objects within a particular namespace; the type information is stored in the object itself.\n",
        "#Some observers might hastily conclude that Python is not a “typed language.” This is not true; consider this example:\n",
        "#\"5\"+5 : it will give type error in python. In some languages, the string '5' might get implicitly converted (or cast) to an integer, thus yielding 10.\n",
        "#In other languages the integer 5 might be cast to a string, yielding the concatenated string '55'. In Python, such implicit casts are not allowed.\n",
        "#In this regard we say that Python is a strongly typed language, which means that every object has a specific type (or class)\n",
        "#implicit conversions will occur only in certain permitted circumstances, such as:\n",
        "a=5.6\n",
        "b=6\n",
        "print(f\"a is{type(a)} and b is {type(b)}\")\n",
        "print(a/b)\n",
        "#Here, even though b is an integer, it is implicitly converted to a float for the division operation."
      ],
      "metadata": {
        "colab": {
          "base_uri": "https://localhost:8080/"
        },
        "id": "9JMKbKAsvwt3",
        "outputId": "3de5529d-9306-40aa-f409-ad07eaaafaf9"
      },
      "execution_count": 11,
      "outputs": [
        {
          "output_type": "stream",
          "name": "stdout",
          "text": [
            "a is<class 'float'> and b is <class 'int'>\n",
            "0.9333333333333332\n"
          ]
        }
      ]
    },
    {
      "cell_type": "code",
      "source": [
        "#You can check that an object is an instance of a particular type using the isinstance function:\n",
        "a=6\n",
        "isinstance(a,int)\n",
        "#isinstance can accept a tuple of types if you want to check that an object’s type is among those present in the tuple:\n",
        "b=8\n",
        "c=9.6\n",
        "isinstance(a,(int,float))\n",
        "isinstance(b,(int,float))"
      ],
      "metadata": {
        "colab": {
          "base_uri": "https://localhost:8080/"
        },
        "id": "630xbxzdw38s",
        "outputId": "5941dad8-8756-448c-8b1d-b67f960cf886"
      },
      "execution_count": 13,
      "outputs": [
        {
          "output_type": "execute_result",
          "data": {
            "text/plain": [
              "True"
            ]
          },
          "metadata": {},
          "execution_count": 13
        }
      ]
    },
    {
      "cell_type": "code",
      "source": [
        "#Attributes and methods\n",
        "#Objects in Python typically have both attributes (other Python objects stored “inside” the object) and\n",
        "#methods (functions associated with an object that can have access to the object’s internal data).\n",
        "#a.<Press Tab>\n",
        "#capitalize() index()        isspace()      removesuffix()  startswith()\n",
        "#casefold()   isprintable()  istitle()      replace()       strip()\n",
        "#center()     isalnum()      isupper()      rfind()         swapcase()\n",
        "#count()      isalpha()      join()         rindex()        title()\n",
        "#encode()     isascii()      ljust()        rjust()         translate()\n",
        "#endswith()   isdecimal()    lower()        rpartition()\n",
        "#expandtabs() isdigit()      lstrip()       rsplit()\n",
        "#find()       isidentifier() maketrans()    rstrip()\n",
        "#format()     islower()      partition()    split()\n",
        "#format_map() isnumeric()    removeprefix() splitlines()'''\n",
        "a=\"foo is\"\n",
        "a.capitalize() #makes the first letter capital"
      ],
      "metadata": {
        "colab": {
          "base_uri": "https://localhost:8080/",
          "height": 36
        },
        "id": "GCmifJvYx47s",
        "outputId": "b44e0176-36da-407c-ff63-638dab011fac"
      },
      "execution_count": 17,
      "outputs": [
        {
          "output_type": "execute_result",
          "data": {
            "text/plain": [
              "'Foo is'"
            ],
            "application/vnd.google.colaboratory.intrinsic+json": {
              "type": "string"
            }
          },
          "metadata": {},
          "execution_count": 17
        }
      ]
    },
    {
      "cell_type": "code",
      "source": [
        "#Duck typing\n",
        "#Often you may not care about the type of an object but rather only whether it has certain methods or behavior.\n",
        "#This is sometimes called duck typing, after the saying \"If it walks like a duck and quacks like a duck, then it's a duck.\"\n",
        "#For example, you can verify that an object is iterable if it implements the iterator protocol.\n",
        "#For many objects, this means it has an __iter__ “magic method,” though an alternative and better way to check is to try using the iter function:\n",
        "a=5\n",
        "\n",
        "def isiterable(object):\n",
        "  try :\n",
        "    iter(object)\n",
        "    return True\n",
        "  except TypeError:\n",
        "    return False\n",
        "\n",
        "isiterable(5)"
      ],
      "metadata": {
        "colab": {
          "base_uri": "https://localhost:8080/"
        },
        "id": "1HRJcopT0LAd",
        "outputId": "9c3e4040-6983-422a-bb35-b32de435f2b2"
      },
      "execution_count": 22,
      "outputs": [
        {
          "output_type": "execute_result",
          "data": {
            "text/plain": [
              "False"
            ]
          },
          "metadata": {},
          "execution_count": 22
        }
      ]
    },
    {
      "cell_type": "code",
      "source": [
        "#Imports\n",
        "#In Python, a module is simply a file with the .py extension containing Python code. Suppose we had the following module:\n",
        "\n",
        "# some_module.py\n",
        "#PI = 3.14159\n",
        "\n",
        "#def f(x):\n",
        "#    return x + 2\n",
        "\n",
        "#def g(a, b):\n",
        "#    return a + b\n",
        "\n",
        "#If we wanted to access the variables and functions defined in some_module.py, from another file in the same directory we could do:\n",
        "\n",
        "#import some_module\n",
        "#result = some_module.f(5)\n",
        "#pi = some_module.PI\n",
        "\n",
        "#Or alternately:\n",
        "\n",
        "#from some_module import g, PI\n",
        "#result = g(5, PI)\n",
        "\n",
        "#By using the as keyword, you can give imports different variable names:\n",
        "\n",
        "#import some_module as sm\n",
        "#from some_module import PI as pi, g as gf\n",
        "\n",
        "#r1 = sm.f(pi)\n",
        "#r2 = gf(6, pi)"
      ],
      "metadata": {
        "id": "BCJZYnX14Mqk"
      },
      "execution_count": null,
      "outputs": []
    },
    {
      "cell_type": "code",
      "source": [
        "#Binary operators\n",
        "#a // b\tFloor-divide a by b, dropping any fractional remainder\n",
        "#a ** b\tRaise a to the b power\n",
        "#a & b\tTrue if both a and b are True; for integers, take the bitwise AND\n",
        "#a | b\tTrue if either a or b is True; for integers, take the bitwise OR\n",
        "#a ^ b\tFor Booleans, True if a or b is True, but not both; for integers, take the bitwise EXCLUSIVE-OR\n",
        "#a == b\tTrue if a equals b\n",
        "#a != b\tTrue if a is not equal to b\n",
        "#a is b\tTrue if a and b reference the same Python object\n",
        "#a is not b\tTrue if a and b reference different Python objects\n",
        "a=[1,2,3]\n",
        "b=a\n",
        "c=list(a)\n",
        "c is a # Since the list function always creates a new Python list (i.e., a copy), we can be sure that c is distinct from a and so it will give false.\n",
        "b is a # Gives true\n",
        "c==a #Gives true.Comparing with is is not the same as the == operator.\n",
        "#A common use of is and is not is to check if a variable is None, since there is only one instance of None.\n",
        "a= None\n",
        "a is None"
      ],
      "metadata": {
        "colab": {
          "base_uri": "https://localhost:8080/"
        },
        "id": "QxTSByra7dZs",
        "outputId": "a5ec54e8-0813-466c-ae1f-b2dea11628f8"
      },
      "execution_count": 26,
      "outputs": [
        {
          "output_type": "execute_result",
          "data": {
            "text/plain": [
              "True"
            ]
          },
          "metadata": {},
          "execution_count": 26
        }
      ]
    },
    {
      "cell_type": "code",
      "source": [
        "#Many objects in Python, such as lists, dictionaries, NumPy arrays, and most user-defined types (classes), are mutable\n",
        "#Others, like strings and tuples, are immutable\n",
        "a=[4,5]\n",
        "a[1]=6\n",
        "a #We can reassign in list\n",
        "b=(5,6)\n",
        "b[1]=3\n",
        "b #We cannot\n"
      ],
      "metadata": {
        "colab": {
          "base_uri": "https://localhost:8080/",
          "height": 200
        },
        "id": "CTnxszEL87tf",
        "outputId": "528d5f28-965b-46c2-ae01-cb6f44e108a0"
      },
      "execution_count": 29,
      "outputs": [
        {
          "output_type": "error",
          "ename": "TypeError",
          "evalue": "'tuple' object does not support item assignment",
          "traceback": [
            "\u001b[0;31m---------------------------------------------------------------------------\u001b[0m",
            "\u001b[0;31mTypeError\u001b[0m                                 Traceback (most recent call last)",
            "\u001b[0;32m<ipython-input-29-d4d38b49c9ef>\u001b[0m in \u001b[0;36m<cell line: 7>\u001b[0;34m()\u001b[0m\n\u001b[1;32m      5\u001b[0m \u001b[0ma\u001b[0m \u001b[0;31m#We can reassign in list\u001b[0m\u001b[0;34m\u001b[0m\u001b[0;34m\u001b[0m\u001b[0m\n\u001b[1;32m      6\u001b[0m \u001b[0mb\u001b[0m\u001b[0;34m=\u001b[0m\u001b[0;34m(\u001b[0m\u001b[0;36m5\u001b[0m\u001b[0;34m,\u001b[0m\u001b[0;36m6\u001b[0m\u001b[0;34m)\u001b[0m\u001b[0;34m\u001b[0m\u001b[0;34m\u001b[0m\u001b[0m\n\u001b[0;32m----> 7\u001b[0;31m \u001b[0mb\u001b[0m\u001b[0;34m[\u001b[0m\u001b[0;36m1\u001b[0m\u001b[0;34m]\u001b[0m\u001b[0;34m=\u001b[0m\u001b[0;36m3\u001b[0m\u001b[0;34m\u001b[0m\u001b[0;34m\u001b[0m\u001b[0m\n\u001b[0m\u001b[1;32m      8\u001b[0m \u001b[0mb\u001b[0m \u001b[0;31m#We cannot\u001b[0m\u001b[0;34m\u001b[0m\u001b[0;34m\u001b[0m\u001b[0m\n",
            "\u001b[0;31mTypeError\u001b[0m: 'tuple' object does not support item assignment"
          ]
        }
      ]
    },
    {
      "cell_type": "code",
      "source": [
        "#Scalar Types\n",
        "#Python has a small set of built-in types for handling numerical data, strings, Boolean (True or False) values, and dates and time.\n",
        "#These \"single value\" types are sometimes called scalar types, and we refer to them in this book as scalars.\n",
        "#None\tThe Python “null” value (only one instance of the None object exists)\n",
        "#str\tString type; holds Unicode strings\n",
        "#bytes\tRaw binary data\n",
        "#float\tDouble-precision floating-point number (note there is no separate double type)\n",
        "#bool\tA Boolean True or False value\n",
        "#int\tArbitrary precision integer\n",
        "#Integer division not resulting in a whole number will always yield a floating-point number:\n",
        "3/2\n",
        "3//2"
      ],
      "metadata": {
        "colab": {
          "base_uri": "https://localhost:8080/"
        },
        "id": "QrWhOktI-D2p",
        "outputId": "fe5bb3e6-7fe7-4cdc-f58c-0cbb3d2d80f3"
      },
      "execution_count": 31,
      "outputs": [
        {
          "output_type": "execute_result",
          "data": {
            "text/plain": [
              "1"
            ]
          },
          "metadata": {},
          "execution_count": 31
        }
      ]
    },
    {
      "cell_type": "code",
      "source": [
        "#For multiline strings with line breaks, you can use triple quotes, either ''' or \"\"\":\n",
        "c='''\n",
        "this is\n",
        "so good\n",
        "'''\n",
        "#It may surprise you that this string c actually contains four lines of text; the line breaks after \"\"\" and after lines are included in the string.\n",
        "#We can count the new line characters with the count method on c:\n",
        "c.count(\"\\n\")"
      ],
      "metadata": {
        "colab": {
          "base_uri": "https://localhost:8080/"
        },
        "id": "YeN8xSx1_XZk",
        "outputId": "4aea7299-9459-476f-c7b4-b9636ed43cf9"
      },
      "execution_count": 35,
      "outputs": [
        {
          "output_type": "execute_result",
          "data": {
            "text/plain": [
              "3"
            ]
          },
          "metadata": {},
          "execution_count": 35
        }
      ]
    },
    {
      "cell_type": "code",
      "source": [
        "#We cannot make changes in a string so we have to create a new string .\n",
        "#If we need to modify a string, we have to use a function or method that creates a new string, such as the string replace method:\n",
        "a=\"This is good\"\n",
        "b=a.replace(\"good\",\"very good\")\n",
        "b\n",
        "# Many Python objects can be converted to a string using the str function:\n",
        "c=8\n",
        "d=str(8)\n",
        "type(d)\n",
        "#Strings are a sequence of Unicode characters and therefore can be treated like other sequences, such as lists and tuples:\n",
        "e=\"python\"\n",
        "f=list(e)\n",
        "f[1:3] # slicing\n",
        "#The backslash character \\ is an escape character, meaning that it is used to specify special characters like newline \\n or Unicode characters.\n",
        "#To write a string literal with backslashes, you need to escape them:\n",
        "a=\"Her name is \\\\ Subha\"\n",
        "print(a)\n",
        "#If you have a string with a lot of backslashes and no special characters, you might find this a bit annoying.\n",
        "#Fortunately you can preface the leading quote of the string with r, which means that the characters should be interpreted as is:\n",
        "b=r\"she is \\ very good \\ he is \\ very \\ bad\"\n",
        "print(b)\n",
        "#concatenation\n",
        "a= \"she\"\n",
        "b= \"he\"\n",
        "a+ b"
      ],
      "metadata": {
        "colab": {
          "base_uri": "https://localhost:8080/",
          "height": 72
        },
        "id": "IVyS_7xg_9bG",
        "outputId": "9c6a6ba0-d72a-416e-df03-9f885a397d48"
      },
      "execution_count": 48,
      "outputs": [
        {
          "output_type": "stream",
          "name": "stdout",
          "text": [
            "Her name is \\ Subha\n",
            "she is \\ very good \\ he is \\ very \\ bad\n"
          ]
        },
        {
          "output_type": "execute_result",
          "data": {
            "text/plain": [
              "'shehe'"
            ],
            "application/vnd.google.colaboratory.intrinsic+json": {
              "type": "string"
            }
          },
          "metadata": {},
          "execution_count": 48
        }
      ]
    },
    {
      "cell_type": "code",
      "source": [
        "#Unicode,bytes and different encodings\n",
        "#Unicode characters are encoded into bytes using various encoding schemes, such as UTF-8, UTF-16, or UTF-32.\n",
        "#latin1: Each character is represented by a single byte (8 bits).\n",
        "#UTF-8: Encodes each Unicode character into one to four bytes.\n",
        "#UTF-16: Encodes each Unicode character into two or four bytes.\n",
        "ori=\"Soumyn\"\n",
        "a=ori.encode(\"utf-8\")\n",
        "b=ori.encode(\"latin1\")\n",
        "c=ori.encode(\"utf-16\")\n",
        "d=ori.encode(\"utf-16le\")\n",
        "print(a,b,c,d)"
      ],
      "metadata": {
        "colab": {
          "base_uri": "https://localhost:8080/"
        },
        "id": "71g7jNfyFL5G",
        "outputId": "b993e29b-611f-4f97-e0b2-c0ff412b98ed"
      },
      "execution_count": 54,
      "outputs": [
        {
          "output_type": "stream",
          "name": "stdout",
          "text": [
            "b'Soumyn' b'Soumyn' b'\\xff\\xfeS\\x00o\\x00u\\x00m\\x00y\\x00n\\x00' b'S\\x00o\\x00u\\x00m\\x00y\\x00n\\x00'\n"
          ]
        }
      ]
    },
    {
      "cell_type": "code",
      "source": [
        "#Type casting\n",
        "int(False)\n",
        "int(True)\n",
        "bool(3) # most nonzero values when cast to bool become True."
      ],
      "metadata": {
        "colab": {
          "base_uri": "https://localhost:8080/"
        },
        "id": "1Yiv9ATlMnSz",
        "outputId": "ceb69e14-dd52-4cdb-b9a1-23c2f19d8e8f"
      },
      "execution_count": 56,
      "outputs": [
        {
          "output_type": "execute_result",
          "data": {
            "text/plain": [
              "True"
            ]
          },
          "metadata": {},
          "execution_count": 56
        }
      ]
    },
    {
      "cell_type": "code",
      "source": [
        "#None is also a common default value for function arguments:\n",
        "def addnum(a,b,c=None):\n",
        "  result = a + b\n",
        "  if c is not None:\n",
        "    result = result * c\n",
        "  return result\n",
        "addnum(2,3)"
      ],
      "metadata": {
        "colab": {
          "base_uri": "https://localhost:8080/"
        },
        "id": "UdiHpOnCNccA",
        "outputId": "e757fda7-2bbe-4227-d5eb-b16772dc6e82"
      },
      "execution_count": 60,
      "outputs": [
        {
          "output_type": "execute_result",
          "data": {
            "text/plain": [
              "5"
            ]
          },
          "metadata": {},
          "execution_count": 60
        }
      ]
    },
    {
      "cell_type": "code",
      "source": [
        "# Dates and times\n",
        "#The built-in Python datetime module provides datetime, date, and time types.\n",
        "#The datetime type combines the information stored in date and time and is the most commonly used\n",
        "from datetime import datetime,date,time\n",
        "dt=datetime(2024,3,5,5,34,45) #datetime(year,month,date,hour,minute,seconds)\n",
        "dt.day #5\n",
        "dt.second #45\n",
        "dt.date()\n",
        "dt.time()\n",
        "#The strftime method formats a datetime as a string:\n",
        "dt.strftime(\"%Y-%m-%d %H:%M\")\n",
        "#Strings can be converted (parsed) into datetime objects with the strptime function:\n",
        "dt.strptime(\"2009123897\",\"%Y%m%d%H%M%S\")\n",
        "\n",
        "date=dt.replace(hour=0,minute=0)\n",
        "dt\n",
        "date\n",
        "#Since datetime.datetime is an immutable type, methods like these always produce new objects.So in the previous example, dt is not modified by replace"
      ],
      "metadata": {
        "colab": {
          "base_uri": "https://localhost:8080/"
        },
        "id": "WTHp0ukdO13c",
        "outputId": "1ca1434f-c9c8-4469-a340-d8a3ec626b9d"
      },
      "execution_count": 77,
      "outputs": [
        {
          "output_type": "execute_result",
          "data": {
            "text/plain": [
              "datetime.datetime(2024, 3, 5, 0, 0, 45)"
            ]
          },
          "metadata": {},
          "execution_count": 77
        }
      ]
    },
    {
      "cell_type": "code",
      "source": [
        "#The difference of two datetime objects produces a datetime.timedelta type:\n",
        "dt=datetime(2009,2,4,5,7,8)\n",
        "dt2=datetime(2009,2,3,5,7,9)\n",
        "delta=dt-dt2\n",
        "delta\n",
        "#Adding a timedelta to a datetime produces a new shifted datetime:\n",
        "dt2+delta"
      ],
      "metadata": {
        "colab": {
          "base_uri": "https://localhost:8080/"
        },
        "id": "jcjKxQQcYqjS",
        "outputId": "79207cfd-ad8a-4c02-fc7d-8d1d45293c78"
      },
      "execution_count": 80,
      "outputs": [
        {
          "output_type": "execute_result",
          "data": {
            "text/plain": [
              "datetime.datetime(2009, 2, 4, 5, 7, 8)"
            ]
          },
          "metadata": {},
          "execution_count": 80
        }
      ]
    },
    {
      "cell_type": "code",
      "source": [
        "#Loops\n",
        "#You can advance a for loop to the next iteration, skipping the remainder of the block, using the continue keyword.\n",
        "#Consider this code, which sums up integers in a list and skips None values:\n",
        "a=[1,2,3,None,5,None,8]\n",
        "sum=0\n",
        "for values in a:\n",
        "  if values is None:\n",
        "    continue\n",
        "  sum=sum+values\n",
        "sum\n",
        "#A for loop can be exited altogether with the break keyword. This code sums elements of the list until None is reached:\n",
        "a=[1,2,3,None,5,None,8]\n",
        "sum=0\n",
        "for values in a:\n",
        "  if values is None:\n",
        "    break\n",
        "  sum=sum+values\n",
        "sum\n",
        "#The break keyword only terminates the innermost for loop; any outer for loops will continue to run\n"
      ],
      "metadata": {
        "colab": {
          "base_uri": "https://localhost:8080/"
        },
        "id": "SwTpGS9uatvv",
        "outputId": "48a0460d-d69d-4280-a30c-7408aa2588fc"
      },
      "execution_count": 88,
      "outputs": [
        {
          "output_type": "execute_result",
          "data": {
            "text/plain": [
              "6"
            ]
          },
          "metadata": {},
          "execution_count": 88
        }
      ]
    },
    {
      "cell_type": "code",
      "source": [
        "#pass\n",
        "#pass is the “no-op” (or \"do nothing\") statement in Python.\n",
        "#It can be used in blocks where no action is to be taken (or as a placeholder for code not yet implemented);\n",
        "#it is required only because Python uses whitespace to delimit blocks\n",
        "#The pass statement in Python is a null operation; it does nothing when executed.\n",
        "#It is used as a placeholder in situations where a statement is syntactically required but no action needs to be performed.\n",
        "#This is particularly useful in Python because the language uses indentation to define blocks of code, and an empty block would otherwise result in an indentation error.\n",
        "x=0\n",
        "if x < 0:\n",
        "    print(\"negative!\")\n",
        "elif x == 0:\n",
        "    # TODO: put something smart here\n",
        "    pass\n",
        "else:\n",
        "    print(\"positive!\")"
      ],
      "metadata": {
        "id": "X8bhB6qykSk4"
      },
      "execution_count": 90,
      "outputs": []
    },
    {
      "cell_type": "code",
      "source": [
        "#The range function generates a sequence of evenly spaced integers:\n",
        "a=list(range(0,10,2)) #range(start,end,step)\n",
        "a"
      ],
      "metadata": {
        "colab": {
          "base_uri": "https://localhost:8080/"
        },
        "id": "4n5DSS2vlHEv",
        "outputId": "a71b0c57-24f1-45b4-a63b-b12e8ba27537"
      },
      "execution_count": 92,
      "outputs": [
        {
          "output_type": "execute_result",
          "data": {
            "text/plain": [
              "[0, 2, 4, 6, 8]"
            ]
          },
          "metadata": {},
          "execution_count": 92
        }
      ]
    }
  ]
}